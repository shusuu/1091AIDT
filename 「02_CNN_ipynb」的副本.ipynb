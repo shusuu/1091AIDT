{
  "nbformat": 4,
  "nbformat_minor": 0,
  "metadata": {
    "kernelspec": {
      "display_name": "Python 3",
      "language": "python",
      "name": "python3"
    },
    "language_info": {
      "codemirror_mode": {
        "name": "ipython",
        "version": 3
      },
      "file_extension": ".py",
      "mimetype": "text/x-python",
      "name": "python",
      "nbconvert_exporter": "python",
      "pygments_lexer": "ipython3",
      "version": "3.7.3"
    },
    "colab": {
      "name": "「02 CNN.ipynb」的副本",
      "provenance": []
    },
    "accelerator": "GPU",
    "widgets": {
      "application/vnd.jupyter.widget-state+json": {
        "8e70e9c4220145779c2cf66a2bab91c3": {
          "model_module": "@jupyter-widgets/controls",
          "model_name": "VBoxModel",
          "state": {
            "_view_name": "VBoxView",
            "_dom_classes": [
              "widget-interact"
            ],
            "_model_name": "VBoxModel",
            "_view_module": "@jupyter-widgets/controls",
            "_model_module_version": "1.5.0",
            "_view_count": null,
            "_view_module_version": "1.5.0",
            "box_style": "",
            "layout": "IPY_MODEL_3d8c2c8013074fb5a076f6a9e02b2706",
            "_model_module": "@jupyter-widgets/controls",
            "children": [
              "IPY_MODEL_adb65b4526bf4c52a86dc072b6300699",
              "IPY_MODEL_72a70cf54c1d4733b7dbbbdf88902152",
              "IPY_MODEL_dd179a19115b438aa8d0ee3755f23cb0"
            ]
          }
        },
        "3d8c2c8013074fb5a076f6a9e02b2706": {
          "model_module": "@jupyter-widgets/base",
          "model_name": "LayoutModel",
          "state": {
            "_view_name": "LayoutView",
            "grid_template_rows": null,
            "right": null,
            "justify_content": null,
            "_view_module": "@jupyter-widgets/base",
            "overflow": null,
            "_model_module_version": "1.2.0",
            "_view_count": null,
            "flex_flow": null,
            "width": null,
            "min_width": null,
            "border": null,
            "align_items": null,
            "bottom": null,
            "_model_module": "@jupyter-widgets/base",
            "top": null,
            "grid_column": null,
            "overflow_y": null,
            "overflow_x": null,
            "grid_auto_flow": null,
            "grid_area": null,
            "grid_template_columns": null,
            "flex": null,
            "_model_name": "LayoutModel",
            "justify_items": null,
            "grid_row": null,
            "max_height": null,
            "align_content": null,
            "visibility": null,
            "align_self": null,
            "height": null,
            "min_height": null,
            "padding": null,
            "grid_auto_rows": null,
            "grid_gap": null,
            "max_width": null,
            "order": null,
            "_view_module_version": "1.2.0",
            "grid_template_areas": null,
            "object_position": null,
            "object_fit": null,
            "grid_auto_columns": null,
            "margin": null,
            "display": null,
            "left": null
          }
        },
        "adb65b4526bf4c52a86dc072b6300699": {
          "model_module": "@jupyter-widgets/controls",
          "model_name": "IntSliderModel",
          "state": {
            "_view_name": "IntSliderView",
            "style": "IPY_MODEL_88fca48896284e1ca017f727ec9103ba",
            "_dom_classes": [],
            "description": "n",
            "step": 1,
            "_model_name": "IntSliderModel",
            "orientation": "horizontal",
            "max": 9999,
            "_view_module": "@jupyter-widgets/controls",
            "_model_module_version": "1.5.0",
            "value": 7741,
            "_view_count": null,
            "disabled": false,
            "_view_module_version": "1.5.0",
            "min": 0,
            "continuous_update": true,
            "readout_format": "d",
            "description_tooltip": null,
            "readout": true,
            "_model_module": "@jupyter-widgets/controls",
            "layout": "IPY_MODEL_d5c722e76753458aa47df8649b8a7450"
          }
        },
        "72a70cf54c1d4733b7dbbbdf88902152": {
          "model_module": "@jupyter-widgets/controls",
          "model_name": "ButtonModel",
          "state": {
            "_view_name": "ButtonView",
            "style": "IPY_MODEL_a8f3b3d1fb7e44cc9045919a431ccc14",
            "_dom_classes": [],
            "description": "Run Interact",
            "_model_name": "ButtonModel",
            "button_style": "",
            "_view_module": "@jupyter-widgets/controls",
            "_model_module_version": "1.5.0",
            "tooltip": "",
            "_view_count": null,
            "disabled": false,
            "_view_module_version": "1.5.0",
            "layout": "IPY_MODEL_d2863fb1c541488ab9e8dd22268d616b",
            "_model_module": "@jupyter-widgets/controls",
            "icon": ""
          }
        },
        "dd179a19115b438aa8d0ee3755f23cb0": {
          "model_module": "@jupyter-widgets/output",
          "model_name": "OutputModel",
          "state": {
            "_view_name": "OutputView",
            "msg_id": "",
            "_dom_classes": [],
            "_model_name": "OutputModel",
            "outputs": [
              {
                "output_type": "stream",
                "metadata": {
                  "tags": []
                },
                "text": "我可愛的 CNN 預測是 8\n",
                "stream": "stdout"
              },
              {
                "output_type": "display_data",
                "metadata": {
                  "tags": [],
                  "needs_background": "light"
                },
                "image/png": "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\n",
                "text/plain": "<Figure size 432x288 with 1 Axes>"
              }
            ],
            "_view_module": "@jupyter-widgets/output",
            "_model_module_version": "1.0.0",
            "_view_count": null,
            "_view_module_version": "1.0.0",
            "layout": "IPY_MODEL_fe8f503e2ba4471488fbd97a122387f4",
            "_model_module": "@jupyter-widgets/output"
          }
        },
        "88fca48896284e1ca017f727ec9103ba": {
          "model_module": "@jupyter-widgets/controls",
          "model_name": "SliderStyleModel",
          "state": {
            "_view_name": "StyleView",
            "handle_color": null,
            "_model_name": "SliderStyleModel",
            "description_width": "",
            "_view_module": "@jupyter-widgets/base",
            "_model_module_version": "1.5.0",
            "_view_count": null,
            "_view_module_version": "1.2.0",
            "_model_module": "@jupyter-widgets/controls"
          }
        },
        "d5c722e76753458aa47df8649b8a7450": {
          "model_module": "@jupyter-widgets/base",
          "model_name": "LayoutModel",
          "state": {
            "_view_name": "LayoutView",
            "grid_template_rows": null,
            "right": null,
            "justify_content": null,
            "_view_module": "@jupyter-widgets/base",
            "overflow": null,
            "_model_module_version": "1.2.0",
            "_view_count": null,
            "flex_flow": null,
            "width": null,
            "min_width": null,
            "border": null,
            "align_items": null,
            "bottom": null,
            "_model_module": "@jupyter-widgets/base",
            "top": null,
            "grid_column": null,
            "overflow_y": null,
            "overflow_x": null,
            "grid_auto_flow": null,
            "grid_area": null,
            "grid_template_columns": null,
            "flex": null,
            "_model_name": "LayoutModel",
            "justify_items": null,
            "grid_row": null,
            "max_height": null,
            "align_content": null,
            "visibility": null,
            "align_self": null,
            "height": null,
            "min_height": null,
            "padding": null,
            "grid_auto_rows": null,
            "grid_gap": null,
            "max_width": null,
            "order": null,
            "_view_module_version": "1.2.0",
            "grid_template_areas": null,
            "object_position": null,
            "object_fit": null,
            "grid_auto_columns": null,
            "margin": null,
            "display": null,
            "left": null
          }
        },
        "a8f3b3d1fb7e44cc9045919a431ccc14": {
          "model_module": "@jupyter-widgets/controls",
          "model_name": "ButtonStyleModel",
          "state": {
            "_view_name": "StyleView",
            "_model_name": "ButtonStyleModel",
            "_view_module": "@jupyter-widgets/base",
            "_model_module_version": "1.5.0",
            "_view_count": null,
            "button_color": null,
            "font_weight": "",
            "_view_module_version": "1.2.0",
            "_model_module": "@jupyter-widgets/controls"
          }
        },
        "d2863fb1c541488ab9e8dd22268d616b": {
          "model_module": "@jupyter-widgets/base",
          "model_name": "LayoutModel",
          "state": {
            "_view_name": "LayoutView",
            "grid_template_rows": null,
            "right": null,
            "justify_content": null,
            "_view_module": "@jupyter-widgets/base",
            "overflow": null,
            "_model_module_version": "1.2.0",
            "_view_count": null,
            "flex_flow": null,
            "width": null,
            "min_width": null,
            "border": null,
            "align_items": null,
            "bottom": null,
            "_model_module": "@jupyter-widgets/base",
            "top": null,
            "grid_column": null,
            "overflow_y": null,
            "overflow_x": null,
            "grid_auto_flow": null,
            "grid_area": null,
            "grid_template_columns": null,
            "flex": null,
            "_model_name": "LayoutModel",
            "justify_items": null,
            "grid_row": null,
            "max_height": null,
            "align_content": null,
            "visibility": null,
            "align_self": null,
            "height": null,
            "min_height": null,
            "padding": null,
            "grid_auto_rows": null,
            "grid_gap": null,
            "max_width": null,
            "order": null,
            "_view_module_version": "1.2.0",
            "grid_template_areas": null,
            "object_position": null,
            "object_fit": null,
            "grid_auto_columns": null,
            "margin": null,
            "display": null,
            "left": null
          }
        },
        "fe8f503e2ba4471488fbd97a122387f4": {
          "model_module": "@jupyter-widgets/base",
          "model_name": "LayoutModel",
          "state": {
            "_view_name": "LayoutView",
            "grid_template_rows": null,
            "right": null,
            "justify_content": null,
            "_view_module": "@jupyter-widgets/base",
            "overflow": null,
            "_model_module_version": "1.2.0",
            "_view_count": null,
            "flex_flow": null,
            "width": null,
            "min_width": null,
            "border": null,
            "align_items": null,
            "bottom": null,
            "_model_module": "@jupyter-widgets/base",
            "top": null,
            "grid_column": null,
            "overflow_y": null,
            "overflow_x": null,
            "grid_auto_flow": null,
            "grid_area": null,
            "grid_template_columns": null,
            "flex": null,
            "_model_name": "LayoutModel",
            "justify_items": null,
            "grid_row": null,
            "max_height": null,
            "align_content": null,
            "visibility": null,
            "align_self": null,
            "height": null,
            "min_height": null,
            "padding": null,
            "grid_auto_rows": null,
            "grid_gap": null,
            "max_width": null,
            "order": null,
            "_view_module_version": "1.2.0",
            "grid_template_areas": null,
            "object_position": null,
            "object_fit": null,
            "grid_auto_columns": null,
            "margin": null,
            "display": null,
            "left": null
          }
        }
      }
    }
  },
  "cells": [
    {
      "cell_type": "code",
      "metadata": {
        "id": "o0C-khDqBLbZ"
      },
      "source": [
        "%matplotlib inline\n",
        "\n",
        "import numpy as np\n",
        "import matplotlib.pyplot as plt\n",
        "import pandas as pd"
      ],
      "execution_count": null,
      "outputs": []
    },
    {
      "cell_type": "code",
      "metadata": {
        "id": "C9HiSEYOBLbf"
      },
      "source": [
        "from tensorflow.keras.utils import to_categorical\n",
        "from tensorflow.keras.models import Sequential\n",
        "from tensorflow.keras.layers import Conv2D, MaxPooling2D\n",
        "from tensorflow.keras.layers import Dense, Flatten\n",
        "from tensorflow.keras.optimizers import SGD"
      ],
      "execution_count": null,
      "outputs": []
    },
    {
      "cell_type": "markdown",
      "metadata": {
        "id": "CMCAX1w0BLbj"
      },
      "source": [
        "### 1. 讀入 MNSIT 數據集"
      ]
    },
    {
      "cell_type": "code",
      "metadata": {
        "id": "b-al0JIvBLbk"
      },
      "source": [
        "from tensorflow.keras.datasets import mnist"
      ],
      "execution_count": null,
      "outputs": []
    },
    {
      "cell_type": "code",
      "metadata": {
        "id": "lpl5MflyBLbm",
        "outputId": "cc4f5d67-8bee-4e47-c664-a7994c088eef",
        "colab": {
          "base_uri": "https://localhost:8080/"
        }
      },
      "source": [
        "(x_train, y_train), (x_test, y_test) = mnist.load_data()"
      ],
      "execution_count": null,
      "outputs": [
        {
          "output_type": "stream",
          "text": [
            "Downloading data from https://storage.googleapis.com/tensorflow/tf-keras-datasets/mnist.npz\n",
            "11493376/11490434 [==============================] - 0s 0us/step\n"
          ],
          "name": "stdout"
        }
      ]
    },
    {
      "cell_type": "markdown",
      "metadata": {
        "id": "9BxFy35SBLbp"
      },
      "source": [
        "### 2. 資料整理"
      ]
    },
    {
      "cell_type": "markdown",
      "metadata": {
        "id": "vD06LpXqBLbq"
      },
      "source": [
        "### Channel\n",
        "\n",
        "CNN 要注意一張圖有多少個 channel, 開始我們因為只有灰階, 所以只有一個 channel。因此我們要轉一下我們的資料格式:\n",
        "\n",
        "    (28,28) --> (28, 28, 1)"
      ]
    },
    {
      "cell_type": "code",
      "metadata": {
        "id": "JkGHF10DBLbq"
      },
      "source": [
        "x_train = x_train.reshape(60000, 28, 28, 1) / 255"
      ],
      "execution_count": null,
      "outputs": []
    },
    {
      "cell_type": "code",
      "metadata": {
        "id": "FK86o1SJBLbs"
      },
      "source": [
        "x_test = x_test.reshape(10000, 28, 28, 1) / 255"
      ],
      "execution_count": null,
      "outputs": []
    },
    {
      "cell_type": "code",
      "metadata": {
        "id": "DdUJTV95BLbv"
      },
      "source": [
        "y_train = to_categorical(y_train, 10)\n",
        "y_test = to_categorical(y_test, 10)"
      ],
      "execution_count": null,
      "outputs": []
    },
    {
      "cell_type": "markdown",
      "metadata": {
        "id": "mS5IIK0kBLby"
      },
      "source": [
        "### 3. step 1: 打造函數學習機 (CNN)"
      ]
    },
    {
      "cell_type": "code",
      "metadata": {
        "id": "FqKQ8da0BLby"
      },
      "source": [
        "model = Sequential()"
      ],
      "execution_count": null,
      "outputs": []
    },
    {
      "cell_type": "code",
      "metadata": {
        "id": "UB4Ym4PmBLb1"
      },
      "source": [
        "model.add(Conv2D(16, (3,3), padding='same',\n",
        "                input_shape=(28,28,1),\n",
        "                activation='relu'))"
      ],
      "execution_count": null,
      "outputs": []
    },
    {
      "cell_type": "code",
      "metadata": {
        "id": "TsNZFCc_BLb4"
      },
      "source": [
        "model.add(MaxPooling2D(pool_size=(2,2)))"
      ],
      "execution_count": null,
      "outputs": []
    },
    {
      "cell_type": "code",
      "metadata": {
        "id": "E_ML5a3xBLb6"
      },
      "source": [
        "model.add(Conv2D(32, (3,3), padding='same',\n",
        "                activation='relu'))"
      ],
      "execution_count": null,
      "outputs": []
    },
    {
      "cell_type": "code",
      "metadata": {
        "id": "mSBcYU6CBLb8"
      },
      "source": [
        "model.add(MaxPooling2D(pool_size=(2,2)))"
      ],
      "execution_count": null,
      "outputs": []
    },
    {
      "cell_type": "code",
      "metadata": {
        "id": "HQBfPV-XBLb-"
      },
      "source": [
        "model.add(Conv2D(64, (3,3), padding='same',\n",
        "                activation='relu'))"
      ],
      "execution_count": null,
      "outputs": []
    },
    {
      "cell_type": "code",
      "metadata": {
        "id": "DSkpXkBlBLcA"
      },
      "source": [
        "model.add(MaxPooling2D(pool_size=(2,2)))"
      ],
      "execution_count": null,
      "outputs": []
    },
    {
      "cell_type": "code",
      "metadata": {
        "id": "yIPxqWkRBLcC"
      },
      "source": [
        "model.add(Flatten())"
      ],
      "execution_count": null,
      "outputs": []
    },
    {
      "cell_type": "code",
      "metadata": {
        "id": "uSw6bgNRBLcD"
      },
      "source": [
        "model.add(Dense(32, activation='relu')) #隨便想一個數字"
      ],
      "execution_count": null,
      "outputs": []
    },
    {
      "cell_type": "code",
      "metadata": {
        "id": "Q9j7U5PPBLcF"
      },
      "source": [
        "model.add(Dense(10, activation='softmax')) #不可以更改10"
      ],
      "execution_count": null,
      "outputs": []
    },
    {
      "cell_type": "markdown",
      "metadata": {
        "id": "_lBIB7n_BLcG"
      },
      "source": [
        "#### 看一下我們的神經網路"
      ]
    },
    {
      "cell_type": "code",
      "metadata": {
        "id": "wzD520AdBLcG",
        "outputId": "23ad269c-ad1a-46d9-a2d5-35313b7f5ab9",
        "colab": {
          "base_uri": "https://localhost:8080/"
        }
      },
      "source": [
        "model.summary()"
      ],
      "execution_count": null,
      "outputs": [
        {
          "output_type": "stream",
          "text": [
            "Model: \"sequential_1\"\n",
            "_________________________________________________________________\n",
            "Layer (type)                 Output Shape              Param #   \n",
            "=================================================================\n",
            "conv2d_4 (Conv2D)            (None, 28, 28, 16)        160       \n",
            "_________________________________________________________________\n",
            "max_pooling2d_4 (MaxPooling2 (None, 14, 14, 16)        0         \n",
            "_________________________________________________________________\n",
            "conv2d_5 (Conv2D)            (None, 14, 14, 32)        4640      \n",
            "_________________________________________________________________\n",
            "max_pooling2d_5 (MaxPooling2 (None, 7, 7, 32)          0         \n",
            "_________________________________________________________________\n",
            "conv2d_6 (Conv2D)            (None, 7, 7, 64)          18496     \n",
            "_________________________________________________________________\n",
            "max_pooling2d_6 (MaxPooling2 (None, 3, 3, 64)          0         \n",
            "_________________________________________________________________\n",
            "flatten_1 (Flatten)          (None, 576)               0         \n",
            "_________________________________________________________________\n",
            "dense_4 (Dense)              (None, 32)                18464     \n",
            "_________________________________________________________________\n",
            "dense_5 (Dense)              (None, 10)                330       \n",
            "=================================================================\n",
            "Total params: 42,090\n",
            "Trainable params: 42,090\n",
            "Non-trainable params: 0\n",
            "_________________________________________________________________\n"
          ],
          "name": "stdout"
        }
      ]
    },
    {
      "cell_type": "markdown",
      "metadata": {
        "id": "V7bW5pvDBLcI"
      },
      "source": [
        "#### 組裝"
      ]
    },
    {
      "cell_type": "code",
      "metadata": {
        "id": "Bg67QTqoBLcJ"
      },
      "source": [
        "model.compile(loss='mse', optimizer=SGD(lr=0.087),\n",
        "             metrics=['accuracy'])"
      ],
      "execution_count": null,
      "outputs": []
    },
    {
      "cell_type": "markdown",
      "metadata": {
        "id": "TSx3PtG6BLcK"
      },
      "source": [
        "### 4. step 2: fit"
      ]
    },
    {
      "cell_type": "code",
      "metadata": {
        "scrolled": true,
        "id": "yQde2EtZBLcK",
        "outputId": "207b7849-1572-43f8-fb47-7db734c31454",
        "colab": {
          "base_uri": "https://localhost:8080/"
        }
      },
      "source": [
        "model.fit(x_train, y_train, batch_size=128, epochs=20) #epochs訓練次數"
      ],
      "execution_count": null,
      "outputs": [
        {
          "output_type": "stream",
          "text": [
            "Epoch 1/20\n",
            "469/469 [==============================] - 2s 4ms/step - loss: 0.0062 - accuracy: 0.9605\n",
            "Epoch 2/20\n",
            "469/469 [==============================] - 2s 4ms/step - loss: 0.0058 - accuracy: 0.9633\n",
            "Epoch 3/20\n",
            "469/469 [==============================] - 2s 3ms/step - loss: 0.0055 - accuracy: 0.9653\n",
            "Epoch 4/20\n",
            "469/469 [==============================] - 2s 3ms/step - loss: 0.0052 - accuracy: 0.9668\n",
            "Epoch 5/20\n",
            "469/469 [==============================] - 2s 4ms/step - loss: 0.0050 - accuracy: 0.9685\n",
            "Epoch 6/20\n",
            "469/469 [==============================] - 2s 4ms/step - loss: 0.0047 - accuracy: 0.9700\n",
            "Epoch 7/20\n",
            "469/469 [==============================] - 2s 4ms/step - loss: 0.0045 - accuracy: 0.9707\n",
            "Epoch 8/20\n",
            "469/469 [==============================] - 2s 3ms/step - loss: 0.0044 - accuracy: 0.9723\n",
            "Epoch 9/20\n",
            "469/469 [==============================] - 2s 4ms/step - loss: 0.0042 - accuracy: 0.9730\n",
            "Epoch 10/20\n",
            "469/469 [==============================] - 2s 3ms/step - loss: 0.0041 - accuracy: 0.9744\n",
            "Epoch 11/20\n",
            "469/469 [==============================] - 2s 4ms/step - loss: 0.0039 - accuracy: 0.9751\n",
            "Epoch 12/20\n",
            "469/469 [==============================] - 2s 4ms/step - loss: 0.0038 - accuracy: 0.9760\n",
            "Epoch 13/20\n",
            "469/469 [==============================] - 2s 4ms/step - loss: 0.0037 - accuracy: 0.9769\n",
            "Epoch 14/20\n",
            "469/469 [==============================] - 2s 4ms/step - loss: 0.0036 - accuracy: 0.9771\n",
            "Epoch 15/20\n",
            "469/469 [==============================] - 2s 4ms/step - loss: 0.0035 - accuracy: 0.9771\n",
            "Epoch 16/20\n",
            "469/469 [==============================] - 2s 4ms/step - loss: 0.0034 - accuracy: 0.9789\n",
            "Epoch 17/20\n",
            "469/469 [==============================] - 2s 3ms/step - loss: 0.0033 - accuracy: 0.9791\n",
            "Epoch 18/20\n",
            "469/469 [==============================] - 2s 4ms/step - loss: 0.0032 - accuracy: 0.9800\n",
            "Epoch 19/20\n",
            "469/469 [==============================] - 2s 3ms/step - loss: 0.0032 - accuracy: 0.9799\n",
            "Epoch 20/20\n",
            "469/469 [==============================] - 2s 3ms/step - loss: 0.0031 - accuracy: 0.9806\n"
          ],
          "name": "stdout"
        },
        {
          "output_type": "execute_result",
          "data": {
            "text/plain": [
              "<tensorflow.python.keras.callbacks.History at 0x7fc4d83ca5f8>"
            ]
          },
          "metadata": {
            "tags": []
          },
          "execution_count": 64
        }
      ]
    },
    {
      "cell_type": "markdown",
      "metadata": {
        "id": "woF9M2DnBLcM"
      },
      "source": [
        "### Step 3. 預測"
      ]
    },
    {
      "cell_type": "code",
      "metadata": {
        "id": "K1Wbcv3UBLcM"
      },
      "source": [
        "result = model.predict_classes(x_test)"
      ],
      "execution_count": null,
      "outputs": []
    },
    {
      "cell_type": "markdown",
      "metadata": {
        "id": "THrMF-ZZBLcO"
      },
      "source": [
        "### 看看測試資料表現如何"
      ]
    },
    {
      "cell_type": "code",
      "metadata": {
        "id": "sdsT1BULBLcO",
        "outputId": "30ddb09e-1bd9-4195-e249-18d81c1c6e7d",
        "colab": {
          "base_uri": "https://localhost:8080/"
        }
      },
      "source": [
        "loss, acc = model.evaluate(x_test, y_test)"
      ],
      "execution_count": null,
      "outputs": [
        {
          "output_type": "stream",
          "text": [
            "313/313 [==============================] - 1s 2ms/step - loss: 0.0031 - accuracy: 0.9802\n"
          ],
          "name": "stdout"
        }
      ]
    },
    {
      "cell_type": "code",
      "metadata": {
        "id": "2bD1AF57BLcP",
        "outputId": "685eadeb-f174-4133-9222-33531f9fff21",
        "colab": {
          "base_uri": "https://localhost:8080/"
        }
      },
      "source": [
        "print(f'測試資料的正確率為 {acc*100:.2f}%')"
      ],
      "execution_count": null,
      "outputs": [
        {
          "output_type": "stream",
          "text": [
            "測試資料的正確率為 98.02%\n"
          ],
          "name": "stdout"
        }
      ]
    },
    {
      "cell_type": "code",
      "metadata": {
        "id": "0oFt7OL_BLcQ"
      },
      "source": [
        "def my_predict(n):\n",
        "    print('我可愛的 CNN 預測是', result[n])\n",
        "    X = x_test[n].reshape(28,28)\n",
        "    plt.imshow(X, cmap='Greys')"
      ],
      "execution_count": null,
      "outputs": []
    },
    {
      "cell_type": "code",
      "metadata": {
        "id": "V_ftnFcFBLcS"
      },
      "source": [
        "from ipywidgets import interact_manual"
      ],
      "execution_count": null,
      "outputs": []
    },
    {
      "cell_type": "code",
      "metadata": {
        "id": "GsbtwkFLBLcT",
        "outputId": "b7f5cdc2-7b82-49f3-ec5b-80925cc6ab45",
        "colab": {
          "base_uri": "https://localhost:8080/",
          "height": 346,
          "referenced_widgets": [
            "8e70e9c4220145779c2cf66a2bab91c3",
            "3d8c2c8013074fb5a076f6a9e02b2706",
            "adb65b4526bf4c52a86dc072b6300699",
            "72a70cf54c1d4733b7dbbbdf88902152",
            "dd179a19115b438aa8d0ee3755f23cb0",
            "88fca48896284e1ca017f727ec9103ba",
            "d5c722e76753458aa47df8649b8a7450",
            "a8f3b3d1fb7e44cc9045919a431ccc14",
            "d2863fb1c541488ab9e8dd22268d616b",
            "fe8f503e2ba4471488fbd97a122387f4"
          ]
        }
      },
      "source": [
        "interact_manual(my_predict, n=(0, 9999));"
      ],
      "execution_count": null,
      "outputs": [
        {
          "output_type": "display_data",
          "data": {
            "application/vnd.jupyter.widget-view+json": {
              "model_id": "8e70e9c4220145779c2cf66a2bab91c3",
              "version_minor": 0,
              "version_major": 2
            },
            "text/plain": [
              "interactive(children=(IntSlider(value=4999, description='n', max=9999), Button(description='Run Interact', sty…"
            ]
          },
          "metadata": {
            "tags": []
          }
        }
      ]
    },
    {
      "cell_type": "markdown",
      "metadata": {
        "id": "3L3kSuZlBLcU"
      },
      "source": [
        "### 把我們的 model 存起來"
      ]
    },
    {
      "cell_type": "code",
      "metadata": {
        "id": "CmJiGk5ZBLcV"
      },
      "source": [
        "model.save('myCNNmodel.h5')"
      ],
      "execution_count": null,
      "outputs": []
    }
  ]
}